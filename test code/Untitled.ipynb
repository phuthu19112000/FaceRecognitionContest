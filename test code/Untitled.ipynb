{
 "cells": [
  {
   "cell_type": "code",
   "execution_count": 18,
   "metadata": {},
   "outputs": [],
   "source": [
    "import cv2\n",
    "import matplotlib.pyplot as plt\n",
    "from skimage.filters import unsharp_mask\n",
    "from mtcnn.mtcnn import MTCNN"
   ]
  },
  {
   "cell_type": "code",
   "execution_count": 19,
   "metadata": {},
   "outputs": [
    {
     "name": "stdout",
     "output_type": "stream",
     "text": [
      "(500, 486, 3)\n"
     ]
    }
   ],
   "source": [
    "img_data = cv2.imread(\"2007_000027.jpg\")\n",
    "print(img_data.shape)"
   ]
  },
  {
   "cell_type": "code",
   "execution_count": 9,
   "metadata": {},
   "outputs": [],
   "source": [
    "#detector = MTCNN()\n",
    "bounding_box1 = [1069,355,83,83]"
   ]
  },
  {
   "cell_type": "code",
   "execution_count": 21,
   "metadata": {},
   "outputs": [
    {
     "data": {
      "text/plain": [
       "array([[[208, 220, 208],\n",
       "        [206, 218, 206],\n",
       "        [205, 215, 203],\n",
       "        ...,\n",
       "        [ 72,  58,  82],\n",
       "        [ 56,  43,  65],\n",
       "        [175, 164, 184]],\n",
       "\n",
       "       [[210, 222, 210],\n",
       "        [209, 221, 209],\n",
       "        [210, 220, 208],\n",
       "        ...,\n",
       "        [ 72,  68,  93],\n",
       "        [ 79,  77,  97],\n",
       "        [175, 173, 192]],\n",
       "\n",
       "       [[209, 220, 210],\n",
       "        [211, 222, 212],\n",
       "        [210, 221, 211],\n",
       "        ...,\n",
       "        [ 91, 112, 133],\n",
       "        [101, 119, 136],\n",
       "        [173, 189, 205]],\n",
       "\n",
       "       ...,\n",
       "\n",
       "       [[ 89,  97, 156],\n",
       "        [ 86,  95, 152],\n",
       "        [ 80,  87, 144],\n",
       "        ...,\n",
       "        [ 51,  32,  47],\n",
       "        [ 69,  53,  64],\n",
       "        [245, 232, 240]],\n",
       "\n",
       "       [[ 86,  97, 155],\n",
       "        [ 87,  96, 153],\n",
       "        [ 84,  91, 148],\n",
       "        ...,\n",
       "        [ 56,  37,  52],\n",
       "        [ 71,  55,  66],\n",
       "        [243, 230, 238]],\n",
       "\n",
       "       [[ 85,  96, 154],\n",
       "        [ 87,  98, 155],\n",
       "        [ 85,  92, 149],\n",
       "        ...,\n",
       "        [ 69,  50,  65],\n",
       "        [ 81,  65,  76],\n",
       "        [250, 237, 245]]], dtype=uint8)"
      ]
     },
     "execution_count": 21,
     "metadata": {},
     "output_type": "execute_result"
    }
   ],
   "source": [
    "cv2.line(img_data,(174,101),(349,351),(255,0,0),3)"
   ]
  },
  {
   "cell_type": "code",
   "execution_count": 10,
   "metadata": {},
   "outputs": [
    {
     "data": {
      "text/plain": [
       "array([[[ 83,  90, 106],\n",
       "        [ 84,  92, 106],\n",
       "        [ 84,  92, 106],\n",
       "        ...,\n",
       "        [133, 126, 116],\n",
       "        [119, 113, 103],\n",
       "        [112, 107,  95]],\n",
       "\n",
       "       [[ 87,  93, 110],\n",
       "        [ 87,  95, 111],\n",
       "        [ 87,  95, 111],\n",
       "        ...,\n",
       "        [104, 101,  91],\n",
       "        [108, 107,  96],\n",
       "        [102, 101,  90]],\n",
       "\n",
       "       [[ 90,  96, 116],\n",
       "        [ 91,  98, 117],\n",
       "        [ 91,  99, 116],\n",
       "        ...,\n",
       "        [101, 104,  93],\n",
       "        [101, 105,  93],\n",
       "        [ 98, 102,  90]],\n",
       "\n",
       "       ...,\n",
       "\n",
       "       [[ 49,  85,  51],\n",
       "        [ 52,  87,  55],\n",
       "        [ 51,  85,  53],\n",
       "        ...,\n",
       "        [ 98,  95,  94],\n",
       "        [100,  96,  95],\n",
       "        [100,  94,  93]],\n",
       "\n",
       "       [[ 66,  98,  65],\n",
       "        [ 71, 102,  72],\n",
       "        [ 68,  98,  68],\n",
       "        ...,\n",
       "        [ 89,  88,  86],\n",
       "        [103, 100,  99],\n",
       "        [103,  99,  98]],\n",
       "\n",
       "       [[ 84, 112,  82],\n",
       "        [ 87, 113,  84],\n",
       "        [ 82, 109,  80],\n",
       "        ...,\n",
       "        [ 82,  85,  83],\n",
       "        [104, 104, 102],\n",
       "        [104, 101, 100]]], dtype=uint8)"
      ]
     },
     "execution_count": 10,
     "metadata": {},
     "output_type": "execute_result"
    }
   ],
   "source": [
    "cv2.rectangle(img_data,\n",
    "              (bounding_box1[0], bounding_box1[1]),\n",
    "              (bounding_box1[0]+bounding_box1[2], bounding_box1[1] + bounding_box1[3]),\n",
    "              (0,155,255),\n",
    "              2)"
   ]
  },
  {
   "cell_type": "code",
   "execution_count": null,
   "metadata": {},
   "outputs": [],
   "source": []
  },
  {
   "cell_type": "code",
   "execution_count": 22,
   "metadata": {},
   "outputs": [
    {
     "data": {
      "text/plain": [
       "-1"
      ]
     },
     "execution_count": 22,
     "metadata": {},
     "output_type": "execute_result"
    }
   ],
   "source": [
    "cv2.imshow(\"image\",img_data)\n",
    "cv2.waitKey(0)"
   ]
  },
  {
   "cell_type": "code",
   "execution_count": null,
   "metadata": {},
   "outputs": [],
   "source": []
  }
 ],
 "metadata": {
  "kernelspec": {
   "display_name": "Python 3.7.6 64-bit ('base')",
   "language": "python",
   "name": "python37664bitbase18da9236ef1e436cb64ec95c63729acf"
  },
  "language_info": {
   "codemirror_mode": {
    "name": "ipython",
    "version": 3
   },
   "file_extension": ".py",
   "mimetype": "text/x-python",
   "name": "python",
   "nbconvert_exporter": "python",
   "pygments_lexer": "ipython3",
   "version": "3.7.6"
  }
 },
 "nbformat": 4,
 "nbformat_minor": 4
}
